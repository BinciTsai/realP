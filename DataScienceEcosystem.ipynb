{
 "cells": [
  {
   "cell_type": "markdown",
   "id": "2062be63-da3c-4dbb-b6b8-1663f58cd4d8",
   "metadata": {},
   "source": [
    "# Data Science Tools and Ecosystem"
   ]
  },
  {
   "cell_type": "markdown",
   "id": "ab9e840f-7812-40e0-aa9c-6c278452b7bb",
   "metadata": {},
   "source": [
    "### In this notebook, Data Science Tools and Ecosystem are summarized."
   ]
  },
  {
   "cell_type": "markdown",
   "id": "caf0ef42-861d-4060-b6f6-e8a46b262261",
   "metadata": {},
   "source": [
    "**Objectives:**\n",
    "\n",
    "- Popular languages that Data Scientists using.\n",
    "- Common libraries used in Data Science.\n",
    "- Arithmetic expressions in Python."
   ]
  },
  {
   "cell_type": "markdown",
   "id": "65551569-da09-495b-af4c-6685d95cb083",
   "metadata": {},
   "source": [
    "Some of the popular languages that Data Scientists use are:\n",
    "\n",
    "| list |\n",
    "| ------ |\n",
    "| R |\n",
    "| C++ |\n",
    "| Java |"
   ]
  },
  {
   "cell_type": "markdown",
   "id": "c985fa56-0935-46f0-bba1-2ab5199d563e",
   "metadata": {},
   "source": [
    "Some of the commonly used libraries used by Data Scientists include:\n",
    "\n",
    "|list|\n",
    "|------|\n",
    "|matplotlib|\n",
    "|Numpy|\n",
    "|Scipy|"
   ]
  },
  {
   "cell_type": "markdown",
   "id": "14255fe1-32c2-4142-8f4b-c0e1cd6688b0",
   "metadata": {},
   "source": [
    "|Data Science Tools|\n",
    "|------|\n",
    "|Anaconda nevigator|\n",
    "|Rstudio|\n",
    "|JupyterIDE|"
   ]
  },
  {
   "cell_type": "markdown",
   "id": "42e0fdf7-fb55-4b15-8b1c-ae521c8d2e03",
   "metadata": {},
   "source": [
    "### Below are a few examples of evaluating arithmetic expressions in Python."
   ]
  },
  {
   "cell_type": "markdown",
   "id": "37ee3fbb-bf20-4ae3-bf7d-b93439383aee",
   "metadata": {},
   "source": [
    "This a simple arithmetic expression to mutiply then add integers."
   ]
  },
  {
   "cell_type": "code",
   "execution_count": 16,
   "id": "4fd5dd9d-ec7d-4d17-b1fa-47488a3eb935",
   "metadata": {},
   "outputs": [
    {
     "data": {
      "text/plain": [
       "17"
      ]
     },
     "execution_count": 16,
     "metadata": {},
     "output_type": "execute_result"
    }
   ],
   "source": [
    "(3*4)+5"
   ]
  },
  {
   "cell_type": "markdown",
   "id": "cbfc051e-0f87-4735-9477-ef82bdfd08b5",
   "metadata": {},
   "source": [
    "This will convert 200 minutes to hours by diving by 60."
   ]
  },
  {
   "cell_type": "code",
   "execution_count": 19,
   "id": "2e9dbeec-ace3-45f6-ad14-f87d79a52efb",
   "metadata": {},
   "outputs": [
    {
     "name": "stdout",
     "output_type": "stream",
     "text": [
      "3.3333333333333335\n"
     ]
    }
   ],
   "source": [
    "minutes = 200\n",
    "hours = minutes/60\n",
    "print(hours)"
   ]
  },
  {
   "cell_type": "markdown",
   "id": "5d901ffc-eec8-407d-a253-bb5e78b9c5f7",
   "metadata": {},
   "source": [
    "## Author\n",
    "PinChi Tsai"
   ]
  },
  {
   "cell_type": "code",
   "execution_count": null,
   "id": "c8fd5f6d-fcf2-487a-8e75-32af392f014f",
   "metadata": {},
   "outputs": [],
   "source": []
  }
 ],
 "metadata": {
  "kernelspec": {
   "display_name": "Python 3 (ipykernel)",
   "language": "python",
   "name": "python3"
  },
  "language_info": {
   "codemirror_mode": {
    "name": "ipython",
    "version": 3
   },
   "file_extension": ".py",
   "mimetype": "text/x-python",
   "name": "python",
   "nbconvert_exporter": "python",
   "pygments_lexer": "ipython3",
   "version": "3.12.7"
  }
 },
 "nbformat": 4,
 "nbformat_minor": 5
}
